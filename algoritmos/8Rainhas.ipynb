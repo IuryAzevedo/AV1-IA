{
  "cells": [
    {
      "cell_type": "markdown",
      "metadata": {
        "id": "hsP8sbgrFEWB"
      },
      "source": [
        "\n",
        "\n",
        "```\n",
        "# Isto está formatado como código\n",
        "```\n",
        "\n",
        "O problema das 8 rainhas"
      ]
    },
    {
      "cell_type": "code",
      "source": [
        "import random\n",
        "import math\n",
        "import time\n",
        "import matplotlib.pyplot as plt\n",
        "import numpy as np\n",
        "\n",
        "# Função para contar o número de conflitos (pares de rainhas se atacando)\n",
        "def conflitos(tabuleiro):\n",
        "    conflitos = 0\n",
        "    tamanho = len(tabuleiro)\n",
        "    for i in range(tamanho):\n",
        "        for j in range(i + 1, tamanho):\n",
        "            if tabuleiro[i] == tabuleiro[j] or abs(tabuleiro[i] - tabuleiro[j]) == abs(i - j):\n",
        "                conflitos += 1\n",
        "    return conflitos\n",
        "\n",
        "# Função f(x): retorna 28 menos o número de pares de rainhas se atacando\n",
        "def f(tabuleiro):\n",
        "    total_pares = 28  # Número total de pares entre 8 rainhas (C(8,2) = 28)\n",
        "    num_conflitos = conflitos(tabuleiro)\n",
        "    return total_pares - num_conflitos\n",
        "\n",
        "# Função de vizinhança com perturbação controlada (altera apenas uma posição)\n",
        "def vizinho_controlado(tabuleiro):\n",
        "    novo_tabuleiro = tabuleiro[:]\n",
        "    coluna = random.randint(0, 7)\n",
        "    linha = random.randint(0, 7)\n",
        "    novo_tabuleiro[coluna] = linha\n",
        "    return novo_tabuleiro\n",
        "\n",
        "# Funções de escalonamento de temperatura\n",
        "def escalonamento_linear(temperatura_inicial, i, max_iteracoes):\n",
        "    return temperatura_inicial - i * (temperatura_inicial / max_iteracoes)\n",
        "\n",
        "def escalonamento_geometrico(temperatura_inicial, fator_resfriamento, i):\n",
        "    return temperatura_inicial * (fator_resfriamento ** i)\n",
        "\n",
        "def escalonamento_logaritmico(temperatura_inicial, i):\n",
        "    return temperatura_inicial / math.log(i + 2)\n",
        "\n",
        "# Função para desenhar o tabuleiro com as rainhas\n",
        "def desenha_tabuleiro(tabuleiro):\n",
        "    tabuleiro_vazio = np.zeros((8, 8))\n",
        "\n",
        "    # Preenche o tabuleiro com 1s onde as rainhas estão posicionadas\n",
        "    for i in range(len(tabuleiro)):\n",
        "        tabuleiro_vazio[tabuleiro[i], i] = 1\n",
        "\n",
        "    fig, ax = plt.subplots()\n",
        "    ax.matshow(tabuleiro_vazio, cmap='binary')\n",
        "\n",
        "    # Desenha as rainhas\n",
        "    for i in range(8):\n",
        "        for j in range(8):\n",
        "            if tabuleiro_vazio[i, j] == 1:\n",
        "                ax.text(j, i, '♛', va='center', ha='center', color='red', fontsize=20)\n",
        "\n",
        "    # Adicionar as linhas para separar as linhas e colunas\n",
        "    ax.set_xticks(np.arange(-.5, 8, 1), minor=True)\n",
        "    ax.set_yticks(np.arange(-.5, 8, 1), minor=True)\n",
        "    ax.grid(which=\"minor\", color=\"black\", linestyle='-', linewidth=2)\n",
        "    ax.tick_params(which=\"minor\", size=0)  # Remove as marcações dos eixos\n",
        "\n",
        "    plt.show()\n",
        "\n",
        "# Implementação da Têmpera Simulada\n",
        "def tempera_simulada(temperatura_inicial, max_iteracoes, escalonamento):\n",
        "    # Inicialização\n",
        "    tabuleiro = [random.randint(0, 7) for _ in range(8)]\n",
        "    historico_aptidao = []\n",
        "    i = 0\n",
        "\n",
        "    while i < max_iteracoes and conflitos(tabuleiro) > 0:\n",
        "        aptidao_atual = f(tabuleiro)  # Usa f(tabuleiro) em vez de conflitos\n",
        "        historico_aptidao.append(aptidao_atual)\n",
        "\n",
        "        # Escolha de um vizinho\n",
        "        novo_tabuleiro = vizinho_controlado(tabuleiro)\n",
        "        aptidao_novo = f(novo_tabuleiro)\n",
        "\n",
        "        # Cálculo da diferença de aptidão\n",
        "        delta_aptidao = aptidao_novo - aptidao_atual\n",
        "\n",
        "        # Atualização da temperatura\n",
        "        if escalonamento == 'linear':\n",
        "            temperatura = escalonamento_linear(temperatura_inicial, i, max_iteracoes)\n",
        "        elif escalonamento == 'geometrico':\n",
        "            fator_resfriamento = 0.995  # Pode ser ajustado\n",
        "            temperatura = escalonamento_geometrico(temperatura_inicial, fator_resfriamento, i)\n",
        "        elif escalonamento == 'logaritmico':\n",
        "            temperatura = escalonamento_logaritmico(temperatura_inicial, i)\n",
        "        else:\n",
        "            raise ValueError(\"Tipo de escalonamento inválido. Escolha 'linear', 'geometrico' ou 'logaritmico'.\")\n",
        "\n",
        "        # Critério de aceitação\n",
        "        if delta_aptidao > 0:\n",
        "            tabuleiro = novo_tabuleiro\n",
        "        else:\n",
        "            probabilidade = math.exp(delta_aptidao / temperatura)\n",
        "            if random.uniform(0, 1) < probabilidade:\n",
        "                tabuleiro = novo_tabuleiro\n",
        "\n",
        "        i += 1\n",
        "\n",
        "    return tabuleiro, conflitos(tabuleiro), historico_aptidao\n",
        "\n",
        "# Função principal para encontrar a primeira solução válida\n",
        "def encontrar_primeira_solucao():\n",
        "    inicio = time.time()\n",
        "    temperatura_inicial = 1000\n",
        "    max_iteracoes = 1000\n",
        "    tipo_escalonamento = 'logaritmico'  # Pode ser 'linear', 'geometrico' ou 'logaritmico'\n",
        "\n",
        "    while True:\n",
        "        tabuleiro, conflitos_finais, historico_aptidao = tempera_simulada(\n",
        "            temperatura_inicial, max_iteracoes, tipo_escalonamento)\n",
        "\n",
        "        if conflitos_finais == 0:\n",
        "            fim = time.time()\n",
        "            print(f\"Solução encontrada: {tabuleiro}\")\n",
        "            desenha_tabuleiro(tabuleiro)\n",
        "            print(f\"Função objetivo (aptidão final): {f(tabuleiro)}\")\n",
        "            print(f\"Tempo de execução: {fim - inicio:.4f} segundos\")\n",
        "            break\n",
        "\n",
        "encontrar_primeira_solucao()\n"
      ],
      "metadata": {
        "colab": {
          "base_uri": "https://localhost:8080/",
          "height": 487
        },
        "id": "aqqv-Dtsweki",
        "outputId": "c5df15e6-6f9e-4c3b-ec93-6c18bd02704f"
      },
      "execution_count": 1,
      "outputs": [
        {
          "output_type": "stream",
          "name": "stdout",
          "text": [
            "Solução encontrada: [5, 2, 6, 1, 3, 7, 0, 4]\n"
          ]
        },
        {
          "output_type": "display_data",
          "data": {
            "text/plain": [
              "<Figure size 640x480 with 1 Axes>"
            ],
            "image/png": "[encoded data removed]"
          },
          "metadata": {}
        },
        {
          "output_type": "stream",
          "name": "stdout",
          "text": [
            "Função objetivo (aptidão final): 28\n",
            "Tempo de execução: 14.2548 segundos\n"
          ]
        }
      ]
    }
  ],
  "metadata": {
    "kernelspec": {
      "display_name": "Python 3",
      "language": "python",
      "name": "python3"
    },
    "language_info": {
      "codemirror_mode": {
        "name": "ipython",
        "version": 3
      },
      "file_extension": ".py",
      "mimetype": "text/x-python",
      "name": "python",
      "nbconvert_exporter": "python",
      "pygments_lexer": "ipython3",
      "version": "3.12.3"
    },
    "colab": {
      "provenance": []
    }
  },
  "nbformat": 4,
  "nbformat_minor": 0
}